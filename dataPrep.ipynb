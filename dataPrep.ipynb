{
  "nbformat": 4,
  "nbformat_minor": 0,
  "metadata": {
    "colab": {
      "provenance": []
    },
    "kernelspec": {
      "name": "python3",
      "display_name": "Python 3"
    },
    "language_info": {
      "name": "python"
    }
  },
  "cells": [
    {
      "cell_type": "code",
      "source": [
        "import numpy as np\n",
        "import pandas as pd\n",
        "import os\n",
        "import cv2\n",
        "import random\n",
        "from google.colab.patches import cv2_imshow\n",
        "import json\n",
        "from shapely import geometry\n",
        "from sklearn.manifold import TSNE \n",
        "import time\n",
        "\n",
        "import numpy as np\n",
        "import tensorflow as tf\n",
        "from lxml import etree"
      ],
      "metadata": {
        "id": "-E6cB67SsH6n"
      },
      "execution_count": null,
      "outputs": []
    },
    {
      "cell_type": "code",
      "source": [
        "class DataProcessing:\n",
        "  def __init__(self,dataDir):\n",
        "    self.dataDir = dataDir\n",
        "    self.folders = os.listdir(dataDir)\n",
        "    self.allImgs = []\n",
        "    self.allImgsPath = []\n",
        "    self.annotations = {}\n",
        "    self.totalFeatures = []\n",
        "    self.imgFeatures = {}\n",
        "    self.imgPathDict = {}\n",
        "    self.partCoords = []\n",
        "\n",
        "  def readJson(self,filePath):\n",
        "    data = open(filePath)\n",
        "    data = data.read()\n",
        "    data = json.loads(data)\n",
        "    return data\n",
        "\n",
        "  def getPartCoords(self):\n",
        "    dim1 = []\n",
        "    for img in self.allImgs:\n",
        "      # dim2 = []\n",
        "      dim3 = []\n",
        "      try:\n",
        "        for item in self.annotations[img]['regions']:\n",
        "          # features.append(item['region_attributes']['identity'])\n",
        "          xCoords = item['shape_attributes']['all_points_x']\n",
        "          yCoords = item['shape_attributes']['all_points_y']\n",
        "          coordList = list(zip(xCoords , yCoords))\n",
        "          dim3.append(coordList)\n",
        "        dim1.append(dim3)\n",
        "      except Exception as e:\n",
        "        print(\"exception : \", e)\n",
        "    return dim1\n",
        "\n",
        "\n",
        "\n",
        "  def dataMerging(self):\n",
        "   \n",
        "    for folder in self.folders:\n",
        "      subFolderPath = os.path.join(self.dataDir,folder)\n",
        "      files = os.listdir(subFolderPath)\n",
        "      for item in files:\n",
        "        filePath = os.path.join(subFolderPath , item)\n",
        "        if item.endswith('.json'):\n",
        "          jsonDict = self.readJson(filePath)\n",
        "          self.annotations = {**self.annotations , **jsonDict}\n",
        "        else:\n",
        "          self.allImgs.append(item)\n",
        "          self.allImgsPath.append(filePath)\n",
        "          self.imgPathDict[item] = filePath\n",
        "\n",
        "  def getImgData(self,img,annotations):\n",
        "  \n",
        "    areas = {}\n",
        "    _img = cv2.imread(self.imgPathDict[img])\n",
        "    h = _img.shape[0]\n",
        "    w = _img.shape[1]\n",
        "    for item in annotations[img]['regions']:\n",
        "    \n",
        "      poly = geometry.Polygon(zip(item['shape_attributes']['all_points_x'],item['shape_attributes']['all_points_y']))\n",
        "      # areas.append(poly.area / (h*w))\n",
        "      areas[item['region_attributes']['identity']] = poly.area / (h * w)\n",
        "\n",
        "    return areas\n",
        "\n",
        "\n",
        "  def dataPrep(self):\n",
        "    for imgName, val in self.annotations.items():\n",
        "      features = []\n",
        "      for i in val['regions']:\n",
        "        feature = i['region_attributes']['identity']\n",
        "        features.append(feature)\n",
        "        self.totalFeatures.append(feature)\n",
        "      self.imgFeatures[imgName] = np.unique(features)\n",
        "\n",
        "  def getAllImages(self):\n",
        "    return self.allImgs\n",
        "\n",
        "  def getPartsArea(self):\n",
        "    df = pd.DataFrame(columns=np.unique(self.totalFeatures))\n",
        "    tot = []\n",
        "    for ii in self.getAllImages():\n",
        "      try:\n",
        "        temp = self.getImgData(ii,self.annotations)\n",
        "        temp = pd.DataFrame(temp,index=[self.imgPathDict[ii]])\n",
        "\n",
        "        tot.append(temp)\n",
        "      except Exception as e:\n",
        "        print(\"error:\",e)\n",
        "\n",
        "    return pd.concat([df , *tot])\n",
        "\n",
        "\n",
        "  def getPolyCoord(self, img):\n",
        "    features = []\n",
        "    xCoords = []\n",
        "    yCoords = []\n",
        "    areas = []\n",
        "    _img = cv2.imread(self.imgPathDict[img])\n",
        "    h = _img.shape[0]\n",
        "    w = _img.shape[1]\n",
        "    # print(self.imgFeatures[img])\n",
        "    for item in self.annotations[img]['regions']:\n",
        "      features.append(item['region_attributes']['identity'])\n",
        "      xCoords.append(item['shape_attributes']['all_points_x'])\n",
        "      yCoords.append(item['shape_attributes']['all_points_y'])\n",
        "      # a square\n",
        "      poly = geometry.Polygon(zip(item['shape_attributes']['all_points_x'],item['shape_attributes']['all_points_y']))\n",
        "      areas.append(poly.area / (h*w))\n",
        "      # print(poly.area)\n",
        "\n",
        "    return {'feature' : features , 'x' : xCoords , 'y' : yCoords , 'area' : areas }\n",
        "\n",
        "  def drawPolygon(self,img):\n",
        "    imgInfo = self.getPolyCoord(img)\n",
        "    img = cv2.imread(self.imgPathDict[img])\n",
        "    for x , y in zip(imgInfo['x'] , imgInfo['y']):\n",
        "      pts = np.array(list(zip(x,y))).reshape(-1,1,2)\n",
        "      color = (random.random()*255, random.random()*255, random.random()*255)\n",
        "      thickness = 4\n",
        "     \n",
        "      img = cv2.polylines(img, [pts] , isClosed=True ,color=color,thickness=thickness)\n",
        "\n",
        "    return img\n",
        "\n",
        "  def showImg(self,img):\n",
        "      cv2_imshow(img)\n",
        "\n",
        "\n",
        "\n",
        "\n",
        "\n",
        "    \n"
      ],
      "metadata": {
        "id": "TwkJ8JVrrGi5"
      },
      "execution_count": null,
      "outputs": []
    },
    {
      "cell_type": "code",
      "source": [
        "# class Annotations:\n",
        "#   def __init__(self):\n",
        "#     pass\n",
        "\n",
        "#   def create_polygon_object_annotation(self,image_filenames, class_names_list, polygon_points_list):\n",
        "#       # Create an XML element for the annotations\n",
        "#       annotations = etree.Element('annotations')\n",
        "\n",
        "#       for i, image_filename in enumerate(image_filenames):\n",
        "#           # Create an annotation element for the current image\n",
        "#           annotation = etree.Element('annotation')\n",
        "\n",
        "#           # Add the filename of the image being annotated\n",
        "#           filename = etree.Element('filename')\n",
        "#           filename.text = image_filename\n",
        "#           annotation.append(filename)\n",
        "\n",
        "#           # Add the size of the image being annotated\n",
        "#           size = etree.Element('size')\n",
        "#           width = etree.Element('width')\n",
        "#           height = etree.Element('height')\n",
        "#           depth = etree.Element('depth')\n",
        "#           size.extend([width, height, depth])\n",
        "#           annotation.append(size)\n",
        "\n",
        "#           # Add the objects being annotated\n",
        "#           for j, polygon_points in enumerate(polygon_points_list[i]):\n",
        "#               object_ = etree.Element('object')\n",
        "#               name = etree.Element('name')\n",
        "#               name.text = class_names_list[i][j]\n",
        "#               object_.append(name)\n",
        "\n",
        "#               # Add the polygon defining the object's location\n",
        "#               polygon = etree.Element('polygon')\n",
        "#               for point in polygon_points:\n",
        "#                   point_element = etree.Element('point')\n",
        "#                   x = etree.Element('x')\n",
        "#                   x.text = str(point[0])\n",
        "#                   y = etree.Element('y')\n",
        "#                   y.text = str(point[1])\n",
        "#                   point_element.extend([x, y])\n",
        "#                   polygon.append(point_element)\n",
        "#               object_.append(polygon)\n",
        "\n",
        "#               annotation.append(object_)\n",
        "\n",
        "#           # Add the annotation element to the annotations element\n",
        "#           annotations.append(annotation)\n",
        "\n",
        "#       # Return the XML element as a string\n",
        "#       return etree.tostring(annotations, pretty_print=True)\n",
        "\n"
      ],
      "metadata": {
        "id": "_Jejlfl8orqL"
      },
      "execution_count": null,
      "outputs": []
    },
    {
      "cell_type": "code",
      "source": [],
      "metadata": {
        "id": "MZNcaX9XpUJ-"
      },
      "execution_count": null,
      "outputs": []
    },
    {
      "cell_type": "code",
      "source": [
        "dataDir = '/content/drive/MyDrive/exercise_1'\n",
        "\n",
        "obj = DataProcessing(dataDir)\n",
        "obj.dataMerging()\n",
        "obj.dataPrep()\n",
        "imgg = obj.getAllImages()\n",
        "len(imgg)"
      ],
      "metadata": {
        "id": "m3lIWvhwyYZ5",
        "colab": {
          "base_uri": "https://localhost:8080/"
        },
        "outputId": "8f1395a0-5cf5-4ae2-99b1-922d4bf8522a"
      },
      "execution_count": null,
      "outputs": [
        {
          "output_type": "execute_result",
          "data": {
            "text/plain": [
              "4006"
            ]
          },
          "metadata": {},
          "execution_count": 4
        }
      ]
    },
    {
      "cell_type": "code",
      "source": [
        "aa = obj.getPartCoords()"
      ],
      "metadata": {
        "colab": {
          "base_uri": "https://localhost:8080/"
        },
        "id": "mCFoDkOpNBam",
        "outputId": "4dbf7947-8b53-488d-8905-05acb2aae85d"
      },
      "execution_count": null,
      "outputs": [
        {
          "output_type": "stream",
          "name": "stdout",
          "text": [
            "exception :  'scraped_fBGB6b_1649444860232 (1).jpg'\n",
            "exception :  'scraped_waBj0k_1649439969130 (1).jpg'\n",
            "exception :  'scraped_eKXS7j_1649444742594 (1).jpg'\n",
            "exception :  'scraped_k3eT5z_1649439502351 (1).jpg'\n",
            "exception :  'scraped_487XVF_1649444676314 (1).jpg'\n",
            "exception :  'scraped_zyvVWW_1649439966514 (1).jpg'\n",
            "exception :  'scraped_FarOZ9_1649439553008 (1).jpg'\n",
            "exception :  'scraped_eF38WJ_1649440001198 (1).jpg'\n",
            "exception :  'scraped_NRbvCX_1649444776260 (1).jpg'\n",
            "exception :  'scraped_mvn6U4_1649439546452 (1).jpg'\n",
            "exception :  'oIUbkqJxtr_1648015348422 (1).jpg'\n",
            "exception :  'BBdANhUobr_1648015235218 (1).jpg'\n",
            "exception :  'scraped_BRdkPU_1648037422271 (1).jpg'\n",
            "exception :  'kMQGuqUoaV_1648015388805 (1).jpg'\n",
            "exception :  '2bnYY7zS1O_1648015242958 (1).jpg'\n",
            "exception :  'XSSLLw9w9O_1648015381392 (1).jpg'\n",
            "exception :  'kiKN0MNi7r_1648015369599 (1).jpg'\n",
            "exception :  '171xnrNbOG_1648015288715 (1).jpg'\n",
            "exception :  't2XErOkMRZ_1648015282255 (1).jpg'\n",
            "exception :  'kKIljKGAIx_1648015249318 (1).jpg'\n",
            "exception :  'scraped_mfy5ef_1648036425126.jpg'\n",
            "exception :  'scraped_Rx1eYe_1648033707539.jpg'\n",
            "exception :  'scraped_Cz4jMp_1648036661181.jpg'\n",
            "exception :  'scraped_GabUCh_1601832631673 (1).jpg'\n",
            "exception :  'scraped_PWmeIA_1601832563514 (1).jpg'\n",
            "exception :  'scraped_fqbm7r_1601833177850 (1).jpg'\n",
            "exception :  'scraped_zdVtGH_1601834316565 (1).jpg'\n",
            "exception :  'scraped_PTIyqQ_1601831328414 (1).jpg'\n",
            "exception :  'scraped_Dg8tFp_1601831088226 (1).jpg'\n",
            "exception :  'scraped_ssc3zx_1601831889575 (1).jpg'\n",
            "exception :  'scraped_LOBy3z_1601832531405 (1).jpg'\n",
            "exception :  'scraped_1o7I0H_1601831527932 (1).jpg'\n"
          ]
        }
      ]
    },
    {
      "cell_type": "code",
      "source": [],
      "metadata": {
        "id": "Aq4g7YBSNNbN"
      },
      "execution_count": null,
      "outputs": []
    },
    {
      "cell_type": "code",
      "source": [],
      "metadata": {
        "id": "7KK4NdD1NPFB"
      },
      "execution_count": null,
      "outputs": []
    },
    {
      "cell_type": "code",
      "source": [
        "import time\n",
        "_dir = '/content/drive/MyDrive/exercise_1'\n",
        "obj = DataProcessing(_dir)\n",
        "obj.dataMerging()\n",
        "obj.dataPrep()\n",
        "st = time.time()\n",
        "df = obj.getPartsArea()\n",
        "print((time.time() - st)/60)\n",
        "df_ori = df[:]\n",
        "df.to_csv('partArea_11.csv')\n"
      ],
      "metadata": {
        "id": "y0kamNFYyhTR"
      },
      "execution_count": null,
      "outputs": []
    },
    {
      "cell_type": "code",
      "source": [],
      "metadata": {
        "id": "QstCBdkSbw6e"
      },
      "execution_count": null,
      "outputs": []
    },
    {
      "cell_type": "code",
      "source": [
        "selected_features = df\n",
        "\n",
        "selected_class_ids = range(0,df.shape[0])\n",
        "selected_filenames = df.index.values\n",
        "tsne_results = TSNE(n_components=2,verbose=1,metric='euclidean').fit_transform(selected_features)\n",
        "# Plot a scatter plot from the generated t-SNE results\n",
        "# colormap = plt.cm.get_cmap('coolwarm')\n",
        "# scatter_plot = plt.scatter(tsne_results[:,0],tsne_results[:,1],c=range(0,df.shape[0]), cmap=colormap)\n",
        "# # plt.color\n",
        "\n",
        "x = tsne_results[:,0]\n",
        "y = tsne_results[:,1]\n",
        "len(x),len(y)"
      ],
      "metadata": {
        "id": "3TP-C155ywcu",
        "colab": {
          "base_uri": "https://localhost:8080/"
        },
        "outputId": "bc0f08f0-c31b-4af1-f746-dc53d5bf87b7"
      },
      "execution_count": null,
      "outputs": [
        {
          "output_type": "stream",
          "name": "stdout",
          "text": [
            "[t-SNE] Computing 91 nearest neighbors...\n",
            "[t-SNE] Indexed 3974 samples in 0.004s...\n",
            "[t-SNE] Computed neighbors for 3974 samples in 0.295s...\n",
            "[t-SNE] Computed conditional probabilities for sample 1000 / 3974\n",
            "[t-SNE] Computed conditional probabilities for sample 2000 / 3974\n",
            "[t-SNE] Computed conditional probabilities for sample 3000 / 3974\n",
            "[t-SNE] Computed conditional probabilities for sample 3974 / 3974\n",
            "[t-SNE] Mean sigma: 0.000000\n",
            "[t-SNE] KL divergence after 250 iterations with early exaggeration: 70.294693\n",
            "[t-SNE] KL divergence after 1000 iterations: 0.791515\n"
          ]
        },
        {
          "output_type": "execute_result",
          "data": {
            "text/plain": [
              "(3974, 3974)"
            ]
          },
          "metadata": {},
          "execution_count": 122
        }
      ]
    },
    {
      "cell_type": "code",
      "source": [
        "from sklearn.cluster import KMeans\n",
        "# kmeans = KMeans(n_clusters=2, random_state=0, n_init=\"auto\").fit(df)\n",
        "\n",
        "from sklearn.datasets import load_digits\n",
        "from sklearn.decomposition import PCA\n",
        "from sklearn.cluster import KMeans\n",
        "import numpy as np\n",
        "\n",
        "#Load Data\n",
        "# data = load_digits().data\n",
        "# pca = PCA(2)\n",
        "\n",
        "# #Transform the data\n",
        "# df = pca.fit_transform(df)\n",
        "\n",
        "# df.shape\n",
        "\n",
        "\n",
        "kmeans = KMeans(n_clusters= 6)\n",
        "\n",
        "#predict the labels of clusters.\n",
        "df = tsne_results\n",
        "label = kmeans.fit_predict(df)\n",
        "\n",
        "import matplotlib.pyplot as plt\n",
        "\n",
        "#filter rows of original data\n",
        "filtered_label0 = df[label == 0]\n",
        "\n",
        "#plotting the results\n",
        "# plt.scatter(filtered_label0[:,0] , filtered_label0[:,1])\n",
        "# plt.show()\n",
        "\n",
        "\n",
        "#filter rows of original data\n",
        "filtered_label2 = df[label == 2]\n",
        "\n",
        "filtered_label5 = df[label == 5]\n",
        "filtered_label1 = df[label == 1]\n",
        "\n",
        "filtered_label3 = df[label == 3]\n",
        "filtered_label4 = df[label == 4]\n",
        "\n",
        "# filtered_label6 = df[label == 6]\n",
        "# filtered_label7 = df[label == 7]\n",
        "# filtered_label8 = df[label == 8]\n",
        "\n",
        "\n",
        "\n",
        "#Plotting the results\n",
        "plt.scatter(filtered_label2[:,0] , filtered_label2[:,1] , color = 'red')\n",
        "plt.scatter(filtered_label5[:,0] , filtered_label5[:,1] , color = 'black')\n",
        "plt.scatter(filtered_label0[:,0] , filtered_label0[:,1] , color = 'green')\n",
        "\n",
        "plt.scatter(filtered_label1[:,0] , filtered_label1[:,1] , color = 'orange')\n",
        "plt.scatter(filtered_label3[:,0] , filtered_label3[:,1] , color = 'blue')\n",
        "plt.scatter(filtered_label4[:,0] , filtered_label4[:,1] , color = 'yellow')\n",
        "\n",
        "# plt.scatter(filtered_label6[:,0] , filtered_label6[:,1] , color = 'brown')\n",
        "# plt.scatter(filtered_label7[:,0] , filtered_label7[:,1] , color = 'brown')\n",
        "# plt.scatter(filtered_label8[:,0] , filtered_label8[:,1] , color = 'brown')\n",
        "\n",
        "\n",
        "plt.show()"
      ],
      "metadata": {
        "colab": {
          "base_uri": "https://localhost:8080/",
          "height": 485
        },
        "id": "Ws9sDhOop001",
        "outputId": "b500a069-84c9-4e55-f647-36c10d8ade35"
      },
      "execution_count": null,
      "outputs": [
        {
          "output_type": "stream",
          "name": "stderr",
          "text": [
            "/usr/local/lib/python3.9/dist-packages/sklearn/cluster/_kmeans.py:870: FutureWarning: The default value of `n_init` will change from 10 to 'auto' in 1.4. Set the value of `n_init` explicitly to suppress the warning\n",
            "  warnings.warn(\n"
          ]
        },
        {
          "output_type": "display_data",
          "data": {
            "text/plain": [
              "<Figure size 640x480 with 1 Axes>"
            ],
            "image/png": "[encoded data removed]"
          },
          "metadata": {}
        }
      ]
    },
    {
      "cell_type": "code",
      "source": [
        "import shutil\n",
        "\n",
        "for i in range(6):\n",
        "  mainPath = '/content/drive/MyDrive/carsData/labelFolder'\n",
        "  dirPath = f\"label_{i}\"\n",
        "  path = os.path.join(mainPath,dirPath)\n",
        "  os.mkdir(path)\n",
        "\n",
        "  tempDf = df_ori[label == i].index\n",
        "  for file in tempDf:\n",
        "    shutil.copy(file , path)\n"
      ],
      "metadata": {
        "id": "-sk0dkFxJOQX"
      },
      "execution_count": null,
      "outputs": []
    },
    {
      "cell_type": "code",
      "source": [],
      "metadata": {
        "id": "UmAMMvYVhFe6"
      },
      "execution_count": null,
      "outputs": []
    },
    {
      "cell_type": "code",
      "source": [],
      "metadata": {
        "id": "AevaNaucy2Qn"
      },
      "execution_count": null,
      "outputs": []
    },
    {
      "cell_type": "code",
      "source": [],
      "metadata": {
        "id": "3ZbjZpc_zKC1"
      },
      "execution_count": null,
      "outputs": []
    },
    {
      "cell_type": "code",
      "source": [],
      "metadata": {
        "id": "vrCRCO6F7390"
      },
      "execution_count": null,
      "outputs": []
    },
    {
      "cell_type": "code",
      "source": [],
      "metadata": {
        "id": "j1hu7XWibRnq"
      },
      "execution_count": null,
      "outputs": []
    },
    {
      "cell_type": "code",
      "source": [],
      "metadata": {
        "id": "tkvCZVUTJqYi"
      },
      "execution_count": null,
      "outputs": []
    },
    {
      "cell_type": "code",
      "source": [
        "# For speed and clarity, we'll analyze about first half of the dataset.\n",
        "# selected_features = np.array(df.columns).reshape(-1,1)\n",
        "# selected_features = df\n",
        "\n",
        "# selected_class_ids = range(0,3977)\n",
        "# selected_filenames = df.index.values\n",
        "# tsne_results = TSNE(n_components=2,verbose=1,metric='euclidean').fit_transform(selected_features)\n",
        "# # Plot a scatter plot from the generated t-SNE results\n",
        "# colormap = plt.cm.get_cmap('coolwarm')\n",
        "# scatter_plot = plt.scatter(tsne_results[:,0],tsne_results[:,1],c=range(0,df.shape[0]), cmap=colormap)\n",
        "# # plt.color\n",
        "\n"
      ],
      "metadata": {
        "id": "qdHWi7hwj_5q"
      },
      "execution_count": 1,
      "outputs": []
    },
    {
      "cell_type": "code",
      "source": [
        "# from matplotlib.offsetbox import OffsetImage, Annotati\n",
        "\n"
      ],
      "metadata": {
        "id": "P4wuO4fREm7h"
      },
      "execution_count": null,
      "outputs": []
    }
  ]
}