{
  "nbformat": 4,
  "nbformat_minor": 0,
  "metadata": {
    "colab": {
      "provenance": []
    },
    "kernelspec": {
      "name": "python3",
      "display_name": "Python 3"
    },
    "language_info": {
      "name": "python"
    },
    "gpuClass": "standard"
  },
  "cells": [
    {
      "cell_type": "code",
      "source": [
        "import tensorflow as tf\n",
        "from tensorflow import keras\n",
        "from tensorflow.keras import layers\n",
        "from tensorflow.keras.preprocessing.image import ImageDataGenerator\n",
        "from sklearn.preprocessing import OneHotEncoder\n",
        "import tensorflow as tf\n",
        "from tensorflow.keras.layers import Input, Dense, Flatten, Conv2D, MaxPooling2D, GlobalAveragePooling2D, BatchNormalization, Activation, Dropout\n",
        "from tensorflow.keras.models import Model\n",
        "from tensorflow.keras.applications.resnet50 import ResNet50\n",
        "from tensorflow.keras.applications.vgg16 import VGG16\n"
      ],
      "metadata": {
        "id": "MiQiccsn-FJC"
      },
      "execution_count": 1,
      "outputs": []
    },
    {
      "cell_type": "code",
      "source": [
        "# from google.colab import drive\n",
        "# drive.mount('/content/drive')"
      ],
      "metadata": {
        "colab": {
          "base_uri": "https://localhost:8080/"
        },
        "id": "yBFcwj9AxkMY",
        "outputId": "c524edab-2928-447e-e34f-89730c0c007e"
      },
      "execution_count": 7,
      "outputs": [
        {
          "output_type": "stream",
          "name": "stdout",
          "text": [
            "Mounted at /content/drive\n"
          ]
        }
      ]
    },
    {
      "cell_type": "code",
      "source": [
        "batch_size = 32"
      ],
      "metadata": {
        "id": "UZxOBf_BXweK",
        "colab": {
          "base_uri": "https://localhost:8080/"
        },
        "outputId": "1de88fae-6b49-4bb5-e01e-a6f74360448b"
      },
      "execution_count": 15,
      "outputs": [
        {
          "output_type": "execute_result",
          "data": {
            "text/plain": [
              "['.config', 'drive', 'sample_data']"
            ]
          },
          "metadata": {},
          "execution_count": 15
        }
      ]
    },
    {
      "cell_type": "code",
      "source": [],
      "metadata": {
        "id": "MpzhDkIAIE3P"
      },
      "execution_count": null,
      "outputs": []
    },
    {
      "cell_type": "markdown",
      "source": [
        "Data prepration\n",
        "reading all the subfolders in the main folder and puttig them together"
      ],
      "metadata": {
        "id": "mWz5Mz7lIFb5"
      }
    },
    {
      "cell_type": "code",
      "execution_count": 16,
      "metadata": {
        "colab": {
          "base_uri": "https://localhost:8080/"
        },
        "id": "I9KFIT2w-BuS",
        "outputId": "23f393b9-cfc2-4ffb-b9b1-124e70282ff5"
      },
      "outputs": [
        {
          "output_type": "stream",
          "name": "stdout",
          "text": [
            "['leftRear', 'rightRear', 'leftFront', 'front', 'rightFront', 'rear', 'other']\n"
          ]
        }
      ],
      "source": [
        "import numpy as np\n",
        "import os\n",
        "from sklearn.model_selection import train_test_split\n",
        "\n",
        "data_dir = '/content/drive/MyDrive/training_data_v2'\n",
        "img_height = 224\n",
        "img_width = 224\n",
        "data = []\n",
        "labels = []\n",
        "total_labels = os.listdir(data_dir)\n",
        "print(os.listdir(data_dir))\n",
        "for label in os.listdir(data_dir):\n",
        "    if os.path.isdir(os.path.join(data_dir, label)):\n",
        "        for filename in os.listdir(os.path.join(data_dir, label)):\n",
        "            img_path = os.path.join(data_dir, label, filename)\n",
        "            img = keras.preprocessing.image.load_img(img_path, target_size=(img_height, img_width))\n",
        "            img_array = keras.preprocessing.image.img_to_array(img) / 255.0\n",
        "            data.append(img_array)\n",
        "            labels.append(label)\n",
        "\n"
      ]
    },
    {
      "cell_type": "markdown",
      "source": [
        "One hot encoding of labels"
      ],
      "metadata": {
        "id": "xRZ0NimzIQKg"
      }
    },
    {
      "cell_type": "code",
      "source": [
        "from tensorflow.keras.utils import to_categorical\n",
        "\n",
        "mapping = {}\n",
        "for x in range(len(total_labels)):\n",
        "  mapping[total_labels[x]] = x\n",
        "\n",
        "for x in range(len(labels)):\n",
        "  labels[x] = mapping[labels[x]]\n",
        "\n",
        "labels = to_categorical(labels)\n"
      ],
      "metadata": {
        "id": "4RPQMJF0oMwg"
      },
      "execution_count": 17,
      "outputs": []
    },
    {
      "cell_type": "code",
      "source": [
        "# Split training data into training and testing sets\n",
        "\n",
        "X_train, X_test, y_train, y_test = train_test_split(\n",
        "    np.array(data), np.array(labels), test_size=0.2, random_state=25)\n",
        "\n",
        "\n",
        "# Split training data into training and validation sets\n",
        "X_train, X_val, y_train, y_val = train_test_split(\n",
        "    X_train, y_train, test_size=0.1, random_state=2)"
      ],
      "metadata": {
        "id": "gUr4CA80Xifz"
      },
      "execution_count": 20,
      "outputs": []
    },
    {
      "cell_type": "markdown",
      "source": [],
      "metadata": {
        "id": "Jyob5amRIcdt"
      }
    },
    {
      "cell_type": "code",
      "source": [
        "train_datagen = ImageDataGenerator(\n",
        "    rotation_range=2,\n",
        "    width_shift_range=0.2,\n",
        "    height_shift_range=0.2,\n",
        "    shear_range=0.2,\n",
        "    zoom_range=0.2,\n",
        "    horizontal_flip=True)\n",
        "\n",
        "train_generator = train_datagen.flow(\n",
        "    X_train, y_train, batch_size=batch_size)\n",
        "\n",
        "test_datagen = ImageDataGenerator()\n",
        "val_datagen = ImageDataGenerator()\n",
        "\n",
        "\n",
        "test_generator = test_datagen.flow(\n",
        "    X_test, y_test, batch_size=1)\n",
        "\n",
        "val_generator = val_datagen.flow(\n",
        "    X_val, y_val, batch_size=batch_size)"
      ],
      "metadata": {
        "id": "R_XAhGEgXmlU"
      },
      "execution_count": 21,
      "outputs": []
    },
    {
      "cell_type": "code",
      "source": [],
      "metadata": {
        "id": "SCKDFRyZkFsH"
      },
      "execution_count": null,
      "outputs": []
    },
    {
      "cell_type": "code",
      "source": [
        "# # Load pre-trained ResNet50 model\n",
        "# base_model = keras.applications.ResNet50(\n",
        "#     include_top=False, weights='imagenet', input_shape=(img_height, img_width, 3))\n",
        "# # Freeze model weights\n",
        "# for layer in base_model.layers:\n",
        "#     layer.trainable = False"
      ],
      "metadata": {
        "id": "Ps_tfT-GOd8J"
      },
      "execution_count": null,
      "outputs": []
    },
    {
      "cell_type": "code",
      "source": [
        "\n",
        "base_model = VGG16(weights='imagenet', include_top=False, input_shape=(224,224,3))\n",
        "base_model.trainable=False\n"
      ],
      "metadata": {
        "id": "PRCWgEooX_3E",
        "colab": {
          "base_uri": "https://localhost:8080/"
        },
        "outputId": "399014d7-7312-41dd-a2dc-e6775cf27350"
      },
      "execution_count": 22,
      "outputs": [
        {
          "output_type": "stream",
          "name": "stdout",
          "text": [
            "Downloading data from https://storage.googleapis.com/tensorflow/keras-applications/vgg16/vgg16_weights_tf_dim_ordering_tf_kernels_notop.h5\n",
            "58889256/58889256 [==============================] - 2s 0us/step\n"
          ]
        }
      ]
    },
    {
      "cell_type": "code",
      "source": [
        "# # Add new classifier layers\n",
        "# x = layers.Flatten()(base_model.output)\n",
        "# x = layers.Dense(256, activation='relu')(x)\n",
        "# x = layers.Dropout(0.5)(x)\n",
        "# x = layers.Dense(6, activation='softmax')(x)\n",
        "\n",
        "# model = keras.Model(inputs=base_model.input, outputs=x)\n",
        "# # model.summary()\n",
        "\n",
        "model = tf.keras.Sequential([\n",
        "        base_model,  \n",
        "        layers.Flatten(),\n",
        "        layers.Dense(512, activation='relu'),\n",
        "        layers.Reshape((1, 1, 512)),\n",
        "        layers.MaxPooling2D(pool_size=(2, 2),strides=(2, 2), padding='same'),\n",
        "        # layers.BatchNormalization()\n",
        "        layers.Flatten(),\n",
        "        layers.Dropout(0.5),\n",
        "        layers.Dense(7, activation='softmax')\n",
        "    ])\n",
        "\n",
        "# base_model = ResNet50(weights='imagenet', include_top=False, input_shape=(224,224,3))\n",
        "\n",
        "# create the head of the model\n",
        "# x = base_model.output\n",
        "# x = GlobalAveragePooling2D()(x)\n",
        "# x = Dense(1024, activation='relu')(x)\n",
        "# x = Dropout(0.5)(x)\n",
        "# x = Dense(1024, activation='relu')(x)\n",
        "# x = Dropout(0.5)(x)\n",
        "# x = Dense(512, activation='relu')(x)\n",
        "# x = Dropout(0.5)(x)\n",
        "# predictions = Dense(6, activation='softmax')(x)\n",
        "\n",
        "# combine the base model and head\n",
        "# model = Model(inputs=base_model.input, outputs=predictions)"
      ],
      "metadata": {
        "id": "-l9ZHFkjTSNR"
      },
      "execution_count": 23,
      "outputs": []
    },
    {
      "cell_type": "code",
      "source": [
        "early = tf.keras.callbacks.EarlyStopping( patience=10,\n",
        "                                          min_delta=0.001,\n",
        "                                          restore_best_weights=True)\n",
        "\n",
        "import tensorflow as tf\n",
        "\n",
        "class AdaptiveLearningRateCallback(tf.keras.callbacks.Callback):\n",
        "    def __init__(self, initial_lr, factor, patience):\n",
        "        super().__init__()\n",
        "        self.initial_lr = initial_lr\n",
        "        self.factor = factor\n",
        "        self.patience = patience\n",
        "        self.best_loss = float('inf')\n",
        "        self.wait = 0\n",
        "    \n",
        "    def on_epoch_end(self, epoch, logs=None):\n",
        "        # Check if validation loss has improved\n",
        "        val_loss = logs.get('val_loss')\n",
        "        if val_loss < self.best_loss:\n",
        "            self.best_loss = val_loss\n",
        "            self.wait = 0\n",
        "        else:\n",
        "            self.wait += 1\n",
        "            if self.wait >= self.patience:\n",
        "                # Reduce learning rate by factor if validation loss doesn't improve\n",
        "                lr = tf.keras.backend.get_value(self.model.optimizer.lr)\n",
        "                new_lr = lr * self.factor\n",
        "                tf.keras.backend.set_value(self.model.optimizer.lr, new_lr)\n",
        "                print(f'Reducing learning rate to {new_lr}.')\n",
        "                self.wait = 0\n"
      ],
      "metadata": {
        "id": "BFUnuI9M3Q_6"
      },
      "execution_count": 30,
      "outputs": []
    },
    {
      "cell_type": "code",
      "source": [
        "from keras import backend as K\n",
        "def recall_m(y_true, y_pred):\n",
        "    true_positives = K.sum(K.round(K.clip(y_true * y_pred, 0, 1)))\n",
        "    possible_positives = K.sum(K.round(K.clip(y_true, 0, 1)))\n",
        "    recall = true_positives / (possible_positives + K.epsilon())\n",
        "    return recall\n",
        "\n",
        "def precision_m(y_true, y_pred):\n",
        "    true_positives = K.sum(K.round(K.clip(y_true * y_pred, 0, 1)))\n",
        "    predicted_positives = K.sum(K.round(K.clip(y_pred, 0, 1)))\n",
        "    precision = true_positives / (predicted_positives + K.epsilon())\n",
        "    return precision\n",
        "\n",
        "def f1_m(y_true, y_pred):\n",
        "    precision = precision_m(y_true, y_pred)\n",
        "    recall = recall_m(y_true, y_pred)\n",
        "    return 2*((precision*recall)/(precision+recall+K.epsilon()))"
      ],
      "metadata": {
        "id": "zLx-T5w64rhF"
      },
      "execution_count": 25,
      "outputs": []
    },
    {
      "cell_type": "code",
      "source": [
        "factor = 0.1\n",
        "patience = 3\n",
        "initial_lr = 0.001\n",
        "lr_callback = AdaptiveLearningRateCallback(initial_lr, factor, patience)"
      ],
      "metadata": {
        "id": "zsKTPOmABTYD"
      },
      "execution_count": 31,
      "outputs": []
    },
    {
      "cell_type": "code",
      "source": [
        "model.compile(optimizer=keras.optimizers.Adam(learning_rate=initial_lr),\n",
        "              loss='categorical_crossentropy',\n",
        "              metrics=['accuracy'])\n",
        "\n",
        "# Train the model\n",
        "num_epochs = 200\n",
        "history = model.fit(\n",
        "    train_generator,\n",
        "    epochs=num_epochs,\n",
        "    validation_data=val_generator,\n",
        "    callbacks=[early,lr_callback]\n",
        ")\n"
      ],
      "metadata": {
        "id": "Dm8NxwFUY4uN"
      },
      "execution_count": null,
      "outputs": []
    },
    {
      "cell_type": "code",
      "source": [
        "\n",
        "# Evaluate the model\n",
        "test_loss, test_acc = model.evaluate(test_generator)\n",
        "\n",
        "print(f'Test Loss: {test_loss:.4f} Test Accuracy: {test_acc:.4f}')\n"
      ],
      "metadata": {
        "id": "ylAXSb_fYHqH"
      },
      "execution_count": null,
      "outputs": []
    },
    {
      "cell_type": "code",
      "source": [
        "import cv2\n",
        "from google.colab.patches import cv2_imshow\n",
        "n = 0\n",
        "b = 11\n",
        "img = test_generator[b][0][n]*255\n",
        "gt = test_generator[b][1][n]\n",
        "print(total_labels)\n",
        "print('truth:',np.array(total_labels)[np.argmax(gt)]) \n",
        "pred = model.predict(test_generator[b][0])[0]\n",
        "print('pred:',np.array(total_labels)[np.argmax(pred)] , max(pred) , pred)\n",
        "cv2_imshow(img)\n"
      ],
      "metadata": {
        "id": "fPWeRj4Mvsdv"
      },
      "execution_count": null,
      "outputs": []
    },
    {
      "cell_type": "code",
      "source": [
        "# model.save(\"vgg16_25_32_pool_f1_0_65.h5\")"
      ],
      "metadata": {
        "id": "leJjsFtEMo5s"
      },
      "execution_count": null,
      "outputs": []
    },
    {
      "cell_type": "code",
      "source": [
        "import tensorflow as tf\n",
        "\n",
        "converter = tf.lite.TFLiteConverter.from_keras_model(model)\n",
        "tflite_model = converter.convert()\n",
        "\n",
        "# Save the converted model to disk\n",
        "with open('model_2.tflite', 'wb') as f:\n",
        "    f.write(tflite_model)\n"
      ],
      "metadata": {
        "colab": {
          "base_uri": "https://localhost:8080/"
        },
        "id": "ywIIp3HHaFu0",
        "outputId": "c02e74b6-5433-49ef-ba54-cf4a956f23b4"
      },
      "execution_count": 29,
      "outputs": [
        {
          "output_type": "stream",
          "name": "stderr",
          "text": [
            "WARNING:absl:Found untraced functions such as _jit_compiled_convolution_op, _jit_compiled_convolution_op, _jit_compiled_convolution_op, _jit_compiled_convolution_op, _jit_compiled_convolution_op while saving (showing 5 of 13). These functions will not be directly callable after loading.\n"
          ]
        }
      ]
    },
    {
      "cell_type": "code",
      "source": [
        "# tflite_model.predict(test_generator[b][0])[0])\n",
        "\n",
        "import numpy as np\n",
        "import tensorflow as tf\n",
        "\n",
        "interpreter = tf.lite.Interpreter(model_path='/content/model_1.tflite')\n",
        "interpreter.allocate_tensors()\n",
        "\n",
        "input_details = interpreter.get_input_details()\n",
        "output_details = interpreter.get_output_details()\n",
        "\n",
        "input_shape = input_details[0]['shape']\n",
        "input_data = test_generator[b][0]\n",
        "interpreter.set_tensor(input_details[0]['index'], input_data)\n",
        "\n",
        "interpreter.invoke()\n",
        "\n",
        "output_data = interpreter.get_tensor(output_details[0]['index'])\n",
        "\n",
        "print(output_data)\n",
        "predicted_class = np.argmax(output_data)\n"
      ],
      "metadata": {
        "id": "zEQLpxR1aPrh"
      },
      "execution_count": null,
      "outputs": []
    },
    {
      "cell_type": "code",
      "source": [],
      "metadata": {
        "id": "sHCoDwoIbMss"
      },
      "execution_count": null,
      "outputs": []
    },
    {
      "cell_type": "code",
      "source": [],
      "metadata": {
        "id": "uL8HiUUvc0y4"
      },
      "execution_count": null,
      "outputs": []
    },
    {
      "cell_type": "code",
      "source": [],
      "metadata": {
        "id": "zVQ8ZFcPc53v"
      },
      "execution_count": null,
      "outputs": []
    }
  ]
}